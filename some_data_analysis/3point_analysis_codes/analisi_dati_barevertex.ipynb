{
 "cells": [
  {
   "cell_type": "code",
   "execution_count": 1,
   "metadata": {},
   "outputs": [
    {
     "name": "stdout",
     "output_type": "stream",
     "text": [
      "Forma dell'array dei dati: (1800, 10)\n",
      "Numero di elementi in 'means': 10\n",
      "Numero di elementi in 'std_devs': 10\n",
      "Calcolo terminato utilizzando 1800 file.\n"
     ]
    }
   ],
   "source": [
    "import numpy as np\n",
    "import glob\n",
    "\n",
    "# Percorso dei file\n",
    "file_path = '/Users/saveriopalazzi/Dropbox/Palazzi_SGH/dati_barevertex/3point_barevertex_SG_*.dat'\n",
    "\n",
    "# Inizializza una lista per accumulare i dati\n",
    "data = []\n",
    "\n",
    "# Inizializza il numero di righe atteso\n",
    "expected_rows = None\n",
    "\n",
    "# Numero massimo di file da considerare\n",
    "max_files = 1800\n",
    "\n",
    "# Conta dei file letti\n",
    "file_count = 0\n",
    "\n",
    "# Leggi ogni file\n",
    "for filename in glob.glob(file_path):\n",
    "    if file_count >= max_files:\n",
    "        break  # Ferma la lettura se raggiunge il limite di 1800 file\n",
    "    with open(filename, 'r') as file:\n",
    "        lines = file.readlines()\n",
    "        values = []\n",
    "        for line in lines[2:]:  # Salta le prime due righe\n",
    "            try:\n",
    "                values.append(float(line.split()[1]))\n",
    "            except ValueError:\n",
    "                print(f\"Errore di conversione nel file {filename} alla riga: {line}\")\n",
    "                continue\n",
    "        if expected_rows is None:\n",
    "            expected_rows = len(values)\n",
    "        elif len(values) != expected_rows:\n",
    "            print(f\"Errore: il file {filename} ha un numero di righe differente ({len(values)}) rispetto agli altri file ({expected_rows}).\")\n",
    "            continue  # Salta questo file\n",
    "        data.append(values)\n",
    "        file_count += 1  # Incrementa il contatore dei file letti\n",
    "\n",
    "# Verifica che ci siano dati da processare\n",
    "if not data:\n",
    "    print(\"Nessun dato valido trovato.\")\n",
    "else:\n",
    "    # Converti i dati in un array numpy per un'elaborazione più semplice\n",
    "    data_array = np.array(data)\n",
    "\n",
    "    # Verifica la forma dell'array per debug\n",
    "    print(f\"Forma dell'array dei dati: {data_array.shape}\")\n",
    "\n",
    "    # Calcola la media e la deviazione standard lungo l'asse dei file (asse 0)\n",
    "    means = np.mean(data_array, axis=0)\n",
    "    std_devs = np.std(data_array, axis=0, ddof=1) / np.sqrt(data_array.shape[0])\n",
    "\n",
    "    # Verifica i risultati di media e deviazione standard\n",
    "    print(f\"Numero di elementi in 'means': {len(means)}\")\n",
    "    print(f\"Numero di elementi in 'std_devs': {len(std_devs)}\")\n",
    "\n",
    "    # Scrivi i risultati in un file di output \n",
    "    output_file_path = '/Users/saveriopalazzi/Dropbox/Palazzi_SGH/gnuplot/analisi_dati_3point/SG_barevertex_media.dat'\n",
    "\n",
    "    with open(output_file_path, 'w') as output_file:\n",
    "        output_file.write(f\"# z: 3 h: 0.358 N: 10000000 Nfile: {file_count}\\n\")\n",
    "        output_file.write(\"# 1: L 2:corr=0 3:error\\n\")\n",
    "        for i in range(len(means)):\n",
    "            output_file.write(f\"{i+2} {means[i]} {std_devs[i]}\\n\")\n",
    "\n",
    "print(f\"Calcolo terminato utilizzando {file_count} file.\")\n"
   ]
  },
  {
   "cell_type": "code",
   "execution_count": null,
   "metadata": {},
   "outputs": [],
   "source": []
  }
 ],
 "metadata": {
  "kernelspec": {
   "display_name": "base",
   "language": "python",
   "name": "python3"
  },
  "language_info": {
   "codemirror_mode": {
    "name": "ipython",
    "version": 3
   },
   "file_extension": ".py",
   "mimetype": "text/x-python",
   "name": "python",
   "nbconvert_exporter": "python",
   "pygments_lexer": "ipython3",
   "version": "3.11.7"
  }
 },
 "nbformat": 4,
 "nbformat_minor": 2
}
